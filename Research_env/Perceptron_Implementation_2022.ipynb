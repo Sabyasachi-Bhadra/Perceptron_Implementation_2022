{
 "cells": [
  {
   "cell_type": "code",
   "execution_count": 3,
   "id": "7ab671c0",
   "metadata": {},
   "outputs": [],
   "source": [
    "# !pip install joblib"
   ]
  },
  {
   "cell_type": "code",
   "execution_count": 4,
   "id": "8cfa11dd",
   "metadata": {},
   "outputs": [],
   "source": [
    "import os\n",
    "import matplotlib.pyplot as plt\n",
    "import joblib\n",
    "import numpy as np\n",
    "\n",
    "plt.style.use(\"fivethirtyeight\")"
   ]
  },
  {
   "cell_type": "code",
   "execution_count": 16,
   "id": "53a8d5d5",
   "metadata": {},
   "outputs": [],
   "source": [
    "class Perceptron:\n",
    "    def __init__(self, eta: float=None, epochs: int=None):\n",
    "        self.weights = np.random.randn(3) * 1e-4\n",
    "        self.eta = eta # learning rate\n",
    "        self.epochs = epochs # iterations\n",
    "    \n",
    "    def fit(self, X, y):\n",
    "        self.X = X\n",
    "        self.y = y\n",
    "        \n",
    "        X_with_bias = np.c_[self.X, -np.ones((len(self.X), 1))]\n",
    "        print(f\"X_with_bias: \\n{X_with_bias}\")\n",
    "        "
   ]
  },
  {
   "cell_type": "code",
   "execution_count": 17,
   "id": "aab17dd6",
   "metadata": {},
   "outputs": [],
   "source": [
    "obj = Perceptron(eta=0.01, epochs=10)"
   ]
  },
  {
   "cell_type": "code",
   "execution_count": 18,
   "id": "cb938149",
   "metadata": {},
   "outputs": [
    {
     "data": {
      "text/plain": [
       "0.01"
      ]
     },
     "execution_count": 18,
     "metadata": {},
     "output_type": "execute_result"
    }
   ],
   "source": [
    "obj.eta"
   ]
  },
  {
   "cell_type": "code",
   "execution_count": 19,
   "id": "38ae6751",
   "metadata": {},
   "outputs": [
    {
     "data": {
      "text/plain": [
       "10"
      ]
     },
     "execution_count": 19,
     "metadata": {},
     "output_type": "execute_result"
    }
   ],
   "source": [
    "obj.epochs"
   ]
  },
  {
   "cell_type": "code",
   "execution_count": 20,
   "id": "ee0b9873",
   "metadata": {},
   "outputs": [
    {
     "data": {
      "text/plain": [
       "array([1.20457394e-04, 3.78237728e-05, 1.46136038e-04])"
      ]
     },
     "execution_count": 20,
     "metadata": {},
     "output_type": "execute_result"
    }
   ],
   "source": [
    "obj.weights"
   ]
  },
  {
   "cell_type": "code",
   "execution_count": 22,
   "id": "8b7b86be",
   "metadata": {},
   "outputs": [
    {
     "data": {
      "text/plain": [
       "array([[1., 1.],\n",
       "       [1., 1.],\n",
       "       [1., 1.],\n",
       "       [1., 1.]])"
      ]
     },
     "execution_count": 22,
     "metadata": {},
     "output_type": "execute_result"
    }
   ],
   "source": [
    "X = np.ones((4,2))\n",
    "X"
   ]
  },
  {
   "cell_type": "code",
   "execution_count": 23,
   "id": "e698de8c",
   "metadata": {},
   "outputs": [
    {
     "data": {
      "text/plain": [
       "array([[1.],\n",
       "       [1.],\n",
       "       [1.],\n",
       "       [1.]])"
      ]
     },
     "execution_count": 23,
     "metadata": {},
     "output_type": "execute_result"
    }
   ],
   "source": [
    "y = np.ones((4,1))\n",
    "y"
   ]
  },
  {
   "cell_type": "code",
   "execution_count": 24,
   "id": "0ceb7f89",
   "metadata": {},
   "outputs": [
    {
     "name": "stdout",
     "output_type": "stream",
     "text": [
      "X_with_bias: \n",
      "[[ 1.  1. -1.]\n",
      " [ 1.  1. -1.]\n",
      " [ 1.  1. -1.]\n",
      " [ 1.  1. -1.]]\n"
     ]
    }
   ],
   "source": [
    "obj.fit(X, y)"
   ]
  },
  {
   "cell_type": "code",
   "execution_count": null,
   "id": "d8ce4cd1",
   "metadata": {},
   "outputs": [],
   "source": []
  }
 ],
 "metadata": {
  "kernelspec": {
   "display_name": "Python 3 (ipykernel)",
   "language": "python",
   "name": "python3"
  },
  "language_info": {
   "codemirror_mode": {
    "name": "ipython",
    "version": 3
   },
   "file_extension": ".py",
   "mimetype": "text/x-python",
   "name": "python",
   "nbconvert_exporter": "python",
   "pygments_lexer": "ipython3",
   "version": "3.7.13"
  }
 },
 "nbformat": 4,
 "nbformat_minor": 5
}
